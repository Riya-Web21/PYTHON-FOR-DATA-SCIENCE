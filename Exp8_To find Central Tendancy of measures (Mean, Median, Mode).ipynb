{
 "cells": [
  {
   "cell_type": "markdown",
   "id": "e5963083-0b95-4373-8d32-02aaeb590acb",
   "metadata": {},
   "source": [
    "# Central Tendancy of measures (Mean, Median, Mode)"
   ]
  },
  {
   "cell_type": "code",
   "execution_count": 2,
   "id": "0c1c4640-40b8-471e-b098-da3b7bc4d166",
   "metadata": {},
   "outputs": [],
   "source": [
    "#Exp no. : 8"
   ]
  },
  {
   "cell_type": "code",
   "execution_count": 3,
   "id": "caa6cf84-b096-422e-a47e-b858b25053fb",
   "metadata": {},
   "outputs": [],
   "source": [
    "#Aim : To find Central Tendancy of measures (Mean, Median, Mode)"
   ]
  },
  {
   "cell_type": "code",
   "execution_count": 4,
   "id": "7a858c75-a29a-4852-a69a-646773801885",
   "metadata": {},
   "outputs": [],
   "source": [
    "#Name : Riya M.Bhattad\n",
    "#Roll no. : 14\n",
    "#Section : A \n",
    "#Subject : PE-I\n",
    "#Date : 04-10-24"
   ]
  },
  {
   "cell_type": "code",
   "execution_count": 5,
   "id": "5fe1ca3f-699a-470b-9a9b-92b4110250bd",
   "metadata": {},
   "outputs": [],
   "source": [
    "age=[21,22,25,23,24,26,25,25,28,29,27,29,26,24,23,23,23,21,23]"
   ]
  },
  {
   "cell_type": "code",
   "execution_count": 6,
   "id": "624a0696-2989-4417-8a4a-2a847eb42a32",
   "metadata": {},
   "outputs": [
    {
     "data": {
      "text/plain": [
       "[21, 22, 25, 23, 24, 26, 25, 25, 28, 29, 27, 29, 26, 24, 23, 23, 23, 21, 23]"
      ]
     },
     "execution_count": 6,
     "metadata": {},
     "output_type": "execute_result"
    }
   ],
   "source": [
    "age"
   ]
  },
  {
   "cell_type": "code",
   "execution_count": 7,
   "id": "3c308149-6e07-44ee-8f91-f2ca0e046243",
   "metadata": {},
   "outputs": [],
   "source": [
    "import statistics"
   ]
  },
  {
   "cell_type": "code",
   "execution_count": 8,
   "id": "52544e44-6f4e-404e-8c79-cc89353127dc",
   "metadata": {},
   "outputs": [],
   "source": [
    "Mean=statistics.mean(age)"
   ]
  },
  {
   "cell_type": "code",
   "execution_count": 9,
   "id": "b0bf6ead-69f6-4db9-9cdf-1bb5a3100847",
   "metadata": {},
   "outputs": [
    {
     "data": {
      "text/plain": [
       "24.57894736842105"
      ]
     },
     "execution_count": 9,
     "metadata": {},
     "output_type": "execute_result"
    }
   ],
   "source": [
    "Mean"
   ]
  },
  {
   "cell_type": "code",
   "execution_count": 13,
   "id": "7f202b44-2339-449e-8c70-c006fcc78cf4",
   "metadata": {},
   "outputs": [],
   "source": [
    "Median=statistics.median(age)"
   ]
  },
  {
   "cell_type": "code",
   "execution_count": 14,
   "id": "6928b401-24ca-4bc8-86d9-eca876502484",
   "metadata": {},
   "outputs": [
    {
     "data": {
      "text/plain": [
       "24"
      ]
     },
     "execution_count": 14,
     "metadata": {},
     "output_type": "execute_result"
    }
   ],
   "source": [
    "Median"
   ]
  },
  {
   "cell_type": "code",
   "execution_count": 15,
   "id": "2e4b791d-a95e-4b7f-bd11-1dd62ec50b4e",
   "metadata": {},
   "outputs": [],
   "source": [
    "Mode=statistics.mode(age)"
   ]
  },
  {
   "cell_type": "code",
   "execution_count": 16,
   "id": "0347d820-927e-4555-b749-1c43177e1fb8",
   "metadata": {},
   "outputs": [
    {
     "data": {
      "text/plain": [
       "23"
      ]
     },
     "execution_count": 16,
     "metadata": {},
     "output_type": "execute_result"
    }
   ],
   "source": [
    "Mode"
   ]
  },
  {
   "cell_type": "code",
   "execution_count": null,
   "id": "2afec651-b195-4bc4-b1a1-8207c75104ce",
   "metadata": {},
   "outputs": [],
   "source": []
  }
 ],
 "metadata": {
  "kernelspec": {
   "display_name": "Python 3 (ipykernel)",
   "language": "python",
   "name": "python3"
  },
  "language_info": {
   "codemirror_mode": {
    "name": "ipython",
    "version": 3
   },
   "file_extension": ".py",
   "mimetype": "text/x-python",
   "name": "python",
   "nbconvert_exporter": "python",
   "pygments_lexer": "ipython3",
   "version": "3.9.7"
  }
 },
 "nbformat": 4,
 "nbformat_minor": 5
}
