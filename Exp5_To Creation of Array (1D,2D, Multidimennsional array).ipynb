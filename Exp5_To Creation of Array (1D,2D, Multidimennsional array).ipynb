{
 "cells": [
  {
   "cell_type": "markdown",
   "id": "a28db890",
   "metadata": {},
   "source": [
    "# Creation of Array (1D,2D and Multidimennsional array)"
   ]
  },
  {
   "cell_type": "code",
   "execution_count": 1,
   "id": "9a1fe54a-5a36-4a74-966d-f1f1bda5e4dd",
   "metadata": {},
   "outputs": [],
   "source": [
    "#Exp no. : 5"
   ]
  },
  {
   "cell_type": "code",
   "execution_count": 2,
   "id": "4702c9cb-662a-498a-8c75-989f40ffd6d0",
   "metadata": {},
   "outputs": [],
   "source": [
    "#Aim : Creation of Array (1D,2D and Multidimennsional array) using numpy"
   ]
  },
  {
   "cell_type": "code",
   "execution_count": 3,
   "id": "824063a1-c54f-4467-861e-1132bff9b13e",
   "metadata": {},
   "outputs": [],
   "source": [
    "#Name : Riya M.Bhattad\n",
    "#Roll no. : 14\n",
    "#Section : A \n",
    "#Subject : PE-I\n",
    "#Date : 04-10-24"
   ]
  },
  {
   "cell_type": "code",
   "execution_count": 4,
   "id": "2f522499-fa03-41a2-b414-d42274154228",
   "metadata": {},
   "outputs": [],
   "source": [
    "import numpy as np"
   ]
  },
  {
   "cell_type": "code",
   "execution_count": 5,
   "id": "fd92693a-b4ee-484c-a0e7-0e63801a71b5",
   "metadata": {},
   "outputs": [],
   "source": [
    "arr1=np.array([10,20,30,40,50])"
   ]
  },
  {
   "cell_type": "code",
   "execution_count": 6,
   "id": "d8a2ffa4-2821-4f11-9449-5ca40a3e3350",
   "metadata": {},
   "outputs": [
    {
     "data": {
      "text/plain": [
       "array([10, 20, 30, 40, 50])"
      ]
     },
     "execution_count": 6,
     "metadata": {},
     "output_type": "execute_result"
    }
   ],
   "source": [
    "arr1\n",
    "\n"
   ]
  },
  {
   "cell_type": "code",
   "execution_count": 7,
   "id": "63f2642b-0eab-4489-b54f-3feefdfd0a7f",
   "metadata": {},
   "outputs": [],
   "source": [
    "arr2=np.array([[10,20,30,40,50],[60,70,80,90,100]])"
   ]
  },
  {
   "cell_type": "code",
   "execution_count": 8,
   "id": "17277170-a545-452d-a451-5222dfdd7c57",
   "metadata": {},
   "outputs": [
    {
     "data": {
      "text/plain": [
       "array([[ 10,  20,  30,  40,  50],\n",
       "       [ 60,  70,  80,  90, 100]])"
      ]
     },
     "execution_count": 8,
     "metadata": {},
     "output_type": "execute_result"
    }
   ],
   "source": [
    "arr2"
   ]
  },
  {
   "cell_type": "code",
   "execution_count": 9,
   "id": "2dd6a0c8-e1a9-4886-b787-78c6b84c4052",
   "metadata": {},
   "outputs": [],
   "source": [
    "arr3=np.array([[10,20,30,40,50],[60,70,80,90,100],[15,25,35,45,55]])"
   ]
  },
  {
   "cell_type": "code",
   "execution_count": 10,
   "id": "2cc9677e-f148-424f-ae7d-dd7d837bed4d",
   "metadata": {},
   "outputs": [
    {
     "data": {
      "text/plain": [
       "array([[ 10,  20,  30,  40,  50],\n",
       "       [ 60,  70,  80,  90, 100],\n",
       "       [ 15,  25,  35,  45,  55]])"
      ]
     },
     "execution_count": 10,
     "metadata": {},
     "output_type": "execute_result"
    }
   ],
   "source": [
    "arr3"
   ]
  },
  {
   "cell_type": "code",
   "execution_count": null,
   "id": "e372a0e7-bc5b-460b-a76e-5002447fe264",
   "metadata": {},
   "outputs": [],
   "source": []
  }
 ],
 "metadata": {
  "kernelspec": {
   "display_name": "Python 3 (ipykernel)",
   "language": "python",
   "name": "python3"
  },
  "language_info": {
   "codemirror_mode": {
    "name": "ipython",
    "version": 3
   },
   "file_extension": ".py",
   "mimetype": "text/x-python",
   "name": "python",
   "nbconvert_exporter": "python",
   "pygments_lexer": "ipython3",
   "version": "3.9.7"
  }
 },
 "nbformat": 4,
 "nbformat_minor": 5
}
